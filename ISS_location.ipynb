{
  "nbformat": 4,
  "nbformat_minor": 0,
  "metadata": {
    "colab": {
      "name": "ISS_location.ipynb",
      "provenance": [],
      "authorship_tag": "ABX9TyMz+J0GTeFKWhezOM3XjzcH",
      "include_colab_link": true
    },
    "kernelspec": {
      "name": "python3",
      "display_name": "Python 3"
    },
    "language_info": {
      "name": "python"
    }
  },
  "cells": [
    {
      "cell_type": "markdown",
      "metadata": {
        "id": "view-in-github",
        "colab_type": "text"
      },
      "source": [
        "<a href=\"https://colab.research.google.com/github/Debmalya-prog/ISS_tracking/blob/main/ISS_location.ipynb\" target=\"_parent\"><img src=\"https://colab.research.google.com/assets/colab-badge.svg\" alt=\"Open In Colab\"/></a>"
      ]
    },
    {
      "cell_type": "code",
      "execution_count": null,
      "metadata": {
        "colab": {
          "base_uri": "https://localhost:8080/"
        },
        "id": "ZDTs5Qa1_Kwf",
        "outputId": "038e7e4d-0eef-444a-a620-9e876257ded0"
      },
      "outputs": [
        {
          "output_type": "stream",
          "name": "stdout",
          "text": [
            "Requirement already satisfied: skyfield in /usr/local/lib/python3.7/dist-packages (1.42)\n",
            "Requirement already satisfied: jplephem>=2.13 in /usr/local/lib/python3.7/dist-packages (from skyfield) (2.17)\n",
            "Requirement already satisfied: sgp4>=2.2 in /usr/local/lib/python3.7/dist-packages (from skyfield) (2.20)\n",
            "Requirement already satisfied: certifi>=2017.4.17 in /usr/local/lib/python3.7/dist-packages (from skyfield) (2021.10.8)\n",
            "Requirement already satisfied: numpy in /usr/local/lib/python3.7/dist-packages (from skyfield) (1.21.5)\n"
          ]
        }
      ],
      "source": [
        "!pip install skyfield\n",
        "from skyfield.api import load, wgs84\n",
        "import pytz\n",
        "import pylab as pl\n",
        "import matplotlib.pyplot as plt\n",
        "ts = load.timescale()"
      ]
    },
    {
      "cell_type": "code",
      "source": [
        "india = pytz.timezone('Asia/Kolkata')\n",
        "kolkata = wgs84.latlon(+28.70, +77.10, elevation_m=100)"
      ],
      "metadata": {
        "id": "6W7upIZADXRj"
      },
      "execution_count": null,
      "outputs": []
    },
    {
      "cell_type": "code",
      "source": [
        "stations_url = 'http://celestrak.com/NORAD/elements/stations.txt'\n",
        "satellites = load.tle_file(stations_url)\n",
        "print('Loaded', len(satellites), 'satellites')"
      ],
      "metadata": {
        "colab": {
          "base_uri": "https://localhost:8080/"
        },
        "id": "s1n8veYtNfqq",
        "outputId": "4d082e33-3ca3-4fd1-cd9d-401ccf007668"
      },
      "execution_count": null,
      "outputs": [
        {
          "output_type": "stream",
          "name": "stdout",
          "text": [
            "Loaded 65 satellites\n"
          ]
        }
      ]
    },
    {
      "cell_type": "code",
      "source": [
        "by_name = {sat.name: sat for sat in satellites}\n",
        "satellite = by_name['ISS (ZARYA)']\n",
        "print(satellite)\n",
        "print(satellite.epoch.utc_jpl())\n",
        "print(satellite)"
      ],
      "metadata": {
        "colab": {
          "base_uri": "https://localhost:8080/"
        },
        "id": "E2hjabohQNkC",
        "outputId": "458ec376-0e18-472a-d132-efeea6d7fc18"
      },
      "execution_count": null,
      "outputs": [
        {
          "output_type": "stream",
          "name": "stdout",
          "text": [
            "ISS (ZARYA) catalog #25544 epoch 2022-03-20 10:01:58 UTC\n",
            "A.D. 2022-Mar-20 10:01:58.0184 UTC\n",
            "ISS (ZARYA) catalog #25544 epoch 2022-03-20 10:01:58 UTC\n"
          ]
        }
      ]
    },
    {
      "cell_type": "code",
      "source": [
        "t = ts.now()\n",
        "geocentric = satellite.at(t)\n",
        "subpoint = wgs84.subpoint(geocentric)\n",
        "print(f'Latitude:  {subpoint.latitude.degrees:.2f}')\n",
        "print(f'Longitude: {subpoint.longitude.degrees:.2f}')\n",
        "print(f\"Elevation {int(subpoint.elevation.km)} (km) {int(subpoint.elevation.km*0.621371)} (mi)\")\n",
        "print(f\"https://earth.google.com/web/search/{subpoint.latitude.degrees:.2f},{subpoint.longitude.degrees:.2f}\")"
      ],
      "metadata": {
        "colab": {
          "base_uri": "https://localhost:8080/"
        },
        "id": "i6P7t-TtQVxL",
        "outputId": "6b4e383d-5c8b-4879-9c55-79db5b1e43c5"
      },
      "execution_count": null,
      "outputs": [
        {
          "output_type": "stream",
          "name": "stdout",
          "text": [
            "Latitude:  20.23\n",
            "Longitude: -6.04\n",
            "Elevation 418 (km) 260 (mi)\n",
            "https://earth.google.com/web/search/20.23,-6.04\n"
          ]
        }
      ]
    },
    {
      "cell_type": "code",
      "source": [
        "difference = satellite - kolkata\n",
        "topocentric = difference.at(t)\n",
        "alt, az, distance = topocentric.altaz()\n",
        "print(f\"alt {alt}, az {az} distance {int(distance.km)} (km) {int(distance.km*0.621371):,} (mi)\")"
      ],
      "metadata": {
        "colab": {
          "base_uri": "https://localhost:8080/"
        },
        "id": "tx0IT8hXR5aV",
        "outputId": "f71bac73-4620-4686-e293-060b8f740c3f"
      },
      "execution_count": null,
      "outputs": [
        {
          "output_type": "stream",
          "name": "stdout",
          "text": [
            "alt -34deg 56' 26.2\", az 285deg 02' 16.6\" distance 8000 (km) 4,971 (mi)\n"
          ]
        }
      ]
    },
    {
      "cell_type": "code",
      "source": [
        "t0 = ts.utc(2022, 3, 19)\n",
        "t1 = ts.utc(2022, 3, 23)\n",
        "t, events = satellite.find_events(kolkata, t0, t1, altitude_degrees=10.0)\n",
        "for ti, event in zip(t, events):\n",
        "    name = ('rise above 10°', 'culminate', 'set below 10°')[event]\n",
        "    print(ti.utc_strftime('%Y %b %d %H:%M:%S'), name)"
      ],
      "metadata": {
        "colab": {
          "base_uri": "https://localhost:8080/"
        },
        "id": "cWdlJ6OaSEDc",
        "outputId": "3855fcf1-c883-4024-dac9-2e2231f20906"
      },
      "execution_count": null,
      "outputs": [
        {
          "output_type": "stream",
          "name": "stdout",
          "text": [
            "2022 Mar 19 11:51:43 rise above 10°\n",
            "2022 Mar 19 11:54:03 culminate\n",
            "2022 Mar 19 11:56:23 set below 10°\n",
            "2022 Mar 19 13:27:45 rise above 10°\n",
            "2022 Mar 19 13:30:39 culminate\n",
            "2022 Mar 19 13:33:34 set below 10°\n",
            "2022 Mar 19 20:02:24 rise above 10°\n",
            "2022 Mar 19 20:04:23 culminate\n",
            "2022 Mar 19 20:06:21 set below 10°\n",
            "2022 Mar 19 21:38:06 rise above 10°\n",
            "2022 Mar 19 21:41:16 culminate\n",
            "2022 Mar 19 21:44:25 set below 10°\n",
            "2022 Mar 20 12:39:27 rise above 10°\n",
            "2022 Mar 20 12:42:43 culminate\n",
            "2022 Mar 20 12:46:01 set below 10°\n",
            "2022 Mar 20 20:50:05 rise above 10°\n",
            "2022 Mar 20 20:53:27 culminate\n",
            "2022 Mar 20 20:56:49 set below 10°\n",
            "2022 Mar 21 11:51:31 rise above 10°\n",
            "2022 Mar 21 11:54:51 culminate\n",
            "2022 Mar 21 11:58:12 set below 10°\n",
            "2022 Mar 21 20:02:19 rise above 10°\n",
            "2022 Mar 21 20:05:34 culminate\n",
            "2022 Mar 21 20:08:48 set below 10°\n",
            "2022 Mar 21 21:41:30 rise above 10°\n",
            "2022 Mar 21 21:41:59 culminate\n",
            "2022 Mar 21 21:42:28 set below 10°\n",
            "2022 Mar 22 11:03:59 rise above 10°\n",
            "2022 Mar 22 11:07:02 culminate\n",
            "2022 Mar 22 11:10:06 set below 10°\n",
            "2022 Mar 22 12:41:42 rise above 10°\n",
            "2022 Mar 22 12:43:52 culminate\n",
            "2022 Mar 22 12:46:04 set below 10°\n",
            "2022 Mar 22 19:14:48 rise above 10°\n",
            "2022 Mar 22 19:17:37 culminate\n",
            "2022 Mar 22 19:20:24 set below 10°\n",
            "2022 Mar 22 20:51:41 rise above 10°\n",
            "2022 Mar 22 20:54:15 culminate\n",
            "2022 Mar 22 20:56:49 set below 10°\n"
          ]
        }
      ]
    },
    {
      "cell_type": "code",
      "source": [
        "eph = load('de421.bsp')\n",
        "sun, earth = eph['sun'], eph['earth']\n",
        "horizon=10\n",
        "def sun_pos(t, topopos):\n",
        "  obs = earth + kolkata\n",
        "  astrometric = obs.at(t).observe(sun)\n",
        "  apparent = obs.at(t).observe(sun).apparent()\n",
        "  alt, az, dist = apparent.altaz()\n",
        "  return alt, az, dist"
      ],
      "metadata": {
        "id": "ZceZMlQOSJwA"
      },
      "execution_count": null,
      "outputs": []
    },
    {
      "cell_type": "code",
      "source": [
        "for ti, event in zip(t, events):\n",
        "    name = (f'rise above {horizon}°', 'highest point', f'set below {horizon}°')[event]\n",
        "    sunalt, sunaz, sundist = sun_pos(ti, kolkata)\n",
        "    if -20 <= sunalt.degrees <= -6:\n",
        "      print(ti.utc_jpl(), name)"
      ],
      "metadata": {
        "colab": {
          "base_uri": "https://localhost:8080/"
        },
        "id": "kRyUqUbCHuhN",
        "outputId": "27d615ea-9ae6-4164-fc62-a96ea59e2011"
      },
      "execution_count": null,
      "outputs": [
        {
          "output_type": "stream",
          "name": "stdout",
          "text": [
            "A.D. 2022-Mar-19 13:27:44.9040 UTC rise above 10°\n",
            "A.D. 2022-Mar-19 13:30:38.8063 UTC highest point\n",
            "A.D. 2022-Mar-19 13:33:33.7015 UTC set below 10°\n"
          ]
        }
      ]
    }
  ]
}